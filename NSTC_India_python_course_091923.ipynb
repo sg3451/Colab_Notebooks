{
  "nbformat": 4,
  "nbformat_minor": 0,
  "metadata": {
    "colab": {
      "provenance": [],
      "include_colab_link": true
    },
    "kernelspec": {
      "name": "python3",
      "display_name": "Python 3"
    },
    "language_info": {
      "name": "python"
    }
  },
  "cells": [
    {
      "cell_type": "markdown",
      "metadata": {
        "id": "view-in-github",
        "colab_type": "text"
      },
      "source": [
        "<a href=\"https://colab.research.google.com/github/sg3451/Colab_Notebooks/blob/main/NSTC_India_python_course_091923.ipynb\" target=\"_parent\"><img src=\"https://colab.research.google.com/assets/colab-badge.svg\" alt=\"Open In Colab\"/></a>"
      ]
    },
    {
      "cell_type": "markdown",
      "source": [],
      "metadata": {
        "id": "B1wJTKJzHzTx"
      }
    },
    {
      "cell_type": "code",
      "source": [],
      "metadata": {
        "id": "v083xpACuUEW"
      },
      "execution_count": null,
      "outputs": []
    },
    {
      "cell_type": "markdown",
      "source": [],
      "metadata": {
        "id": "6xh9PAbiuUru"
      }
    },
    {
      "cell_type": "code",
      "source": [],
      "metadata": {
        "id": "vG6kh4-CuVWp"
      },
      "execution_count": null,
      "outputs": []
    },
    {
      "cell_type": "markdown",
      "source": [],
      "metadata": {
        "id": "hfatcUqeuWBh"
      }
    },
    {
      "cell_type": "code",
      "source": [
        "def reverse_complement(dna_sequence):\n",
        "  reverse_complement = \"\"\n",
        "  for base in dna_sequence:\n",
        "    if base == \"A\":\n",
        "      reverse_complement += \"T\"\n",
        "    elif base == \"T\":\n",
        "      reverse_complement += \"A\"\n",
        "    elif base == \"C\":\n",
        "      reverse_complement += \"G\"\n",
        "    elif base == \"G\":\n",
        "      reverse_complement += \"C\"\n",
        "  return reverse_complement\n",
        "\n",
        "dna_sequence = \"ATTCGCGCGGGGGG\"\n",
        "print(reverse_complement(dna_sequence))"
      ],
      "metadata": {
        "id": "KNXaUBDzwRK7",
        "colab": {
          "base_uri": "https://localhost:8080/"
        },
        "outputId": "2500740c-9473-4066-8b69-16376597bf4b"
      },
      "execution_count": null,
      "outputs": [
        {
          "output_type": "stream",
          "name": "stdout",
          "text": [
            "TAAGCGCGCCCCCC\n"
          ]
        }
      ]
    },
    {
      "cell_type": "code",
      "source": [
        "def odwroc_sekwencje(sekwencja):\n",
        "  wynik = \"\"\n",
        "  for litera in sekwencja:\n",
        "    if(litera == \"T\"):\n",
        "      wynik += \"A\"\n",
        "    elif(litera == \"A\"):\n",
        "      wynik += \"T\"\n",
        "    else:\n",
        "       wynik += litera;\n",
        "  return wynik\n",
        "\n",
        "pocz_sekwencja = \"TAGGCGCACG\"\n",
        "print(odwroc_sekwencje(pocz_sekwencja))"
      ],
      "metadata": {
        "id": "XDJwsC3C0XjM",
        "colab": {
          "base_uri": "https://localhost:8080/"
        },
        "outputId": "596dc80c-0702-4886-c899-ae27f684ef1a"
      },
      "execution_count": null,
      "outputs": [
        {
          "output_type": "stream",
          "name": "stdout",
          "text": [
            "ATGGCGCTCG\n"
          ]
        }
      ]
    },
    {
      "cell_type": "markdown",
      "source": [
        "**2) Create a Python program that generates a random DNA sequence of a specified length.**\n"
      ],
      "metadata": {
        "id": "VOoCWOZyvNMz"
      }
    },
    {
      "cell_type": "markdown",
      "source": [],
      "metadata": {
        "id": "wWojvZrkgmBM"
      }
    },
    {
      "cell_type": "markdown",
      "source": [
        "**1) Write a Python function to reverse complement a DNA sequence**"
      ],
      "metadata": {
        "id": "RlrT-CatvGKw"
      }
    },
    {
      "cell_type": "code",
      "source": [
        "import random\n",
        "\n",
        "def generate_random_dna_sequence(length):\n",
        "    bases = \"ACGT\"\n",
        "    random_sequence = \"\".join(random.choice(bases) for _ in range(length))\n",
        "    return random_sequence\n",
        "generate_random_dna_sequence(10)"
      ],
      "metadata": {
        "colab": {
          "base_uri": "https://localhost:8080/",
          "height": 35
        },
        "id": "H7k0d02cvgz3",
        "outputId": "f238c445-a41d-4e4d-c252-cc4d213c58a7"
      },
      "execution_count": null,
      "outputs": [
        {
          "output_type": "execute_result",
          "data": {
            "text/plain": [
              "'CATCACCGAG'"
            ],
            "application/vnd.google.colaboratory.intrinsic+json": {
              "type": "string"
            }
          },
          "metadata": {},
          "execution_count": 2
        }
      ]
    },
    {
      "cell_type": "code",
      "source": [
        "import random\n",
        "\n",
        "def generuj_ciag_zasad(dlugosc):\n",
        "  zasady = \"ACGT\"\n",
        "  wynik = \"\"\n",
        "  for pozycja in range(dlugosc):\n",
        "    wynik += random.choice(zasady)\n",
        "\n",
        "  return wynik\n",
        "\n",
        "print(generuj_ciag_zasad(30))\n",
        "\n"
      ],
      "metadata": {
        "colab": {
          "base_uri": "https://localhost:8080/"
        },
        "id": "xi5aTZmuAy7R",
        "outputId": "73f2ee8e-4025-4b53-ec22-0a7c8aaa2d85"
      },
      "execution_count": null,
      "outputs": [
        {
          "output_type": "stream",
          "name": "stdout",
          "text": [
            "TAAGAATGCTAACTTCATATGTCAGCCTGC\n"
          ]
        }
      ]
    },
    {
      "cell_type": "markdown",
      "source": [
        "# New Section"
      ],
      "metadata": {
        "id": "hBH1l9GoG6ZW"
      }
    },
    {
      "cell_type": "markdown",
      "source": [
        "**3) Analyzing the frequency matrix of a DNA sequence.**\n",
        "\n",
        "**Info**\\\n",
        " Analyzing the frequency matrix of a DNA sequence involves calculating the occurrence or frequency of each nucleotide (A, T, C, G) at each position in a sequence. This information can be useful for various tasks in bioinformatics, such as motif discovery, understanding sequence patterns, or identifying potential regulatory elements."
      ],
      "metadata": {
        "id": "vyF6545dx4sb"
      }
    },
    {
      "cell_type": "code",
      "source": [
        "# Function to calculate the frequency matrix of a DNA sequence\n",
        "def calculate_frequency_matrix(dna_sequence):\n",
        "    # Initialize a dictionary to store frequency counts\n",
        "    frequency_matrix = {'A': [], 'T': [], 'C': [], 'G': []}\n",
        "\n",
        "    # Get the length of the sequence\n",
        "    sequence_length = len(dna_sequence)\n",
        "\n",
        "    # Iterate over each position in the sequence\n",
        "    for i in range(sequence_length):\n",
        "        nucleotide = dna_sequence[i]\n",
        "\n",
        "        # Increment the count for the observed nucleotide\n",
        "        frequency_matrix[nucleotide].append(i)\n",
        "\n",
        "    # Calculate the frequency of each nucleotide at each position\n",
        "    for nucleotide in frequency_matrix:\n",
        "        frequency_matrix[nucleotide] = [len(frequency_matrix[nucleotide]) / sequence_length for _ in range(sequence_length)]\n",
        "\n",
        "    return frequency_matrix\n",
        "\n",
        "# Example usage:\n",
        "dna_sequence = \"ATGCTAAGCTAGCTAGCGTAA\"\n",
        "\n",
        "frequency_matrix = calculate_frequency_matrix(dna_sequence)\n",
        "\n",
        "# Print the frequency matrix\n",
        "print(\"Frequency Matrix:\")\n",
        "for nucleotide, frequencies in frequency_matrix.items():\n",
        "    print(f\"Nucleotide {nucleotide}: {frequencies}\")\n"
      ],
      "metadata": {
        "colab": {
          "base_uri": "https://localhost:8080/"
        },
        "id": "rViXfgTfWQZw",
        "outputId": "9903fea1-efc8-43af-8c0e-d687f9267b9c"
      },
      "execution_count": null,
      "outputs": [
        {
          "output_type": "stream",
          "name": "stdout",
          "text": [
            "Frequency Matrix:\n",
            "Nucleotide A: [0.3333333333333333, 0.3333333333333333, 0.3333333333333333, 0.3333333333333333, 0.3333333333333333, 0.3333333333333333, 0.3333333333333333, 0.3333333333333333, 0.3333333333333333, 0.3333333333333333, 0.3333333333333333, 0.3333333333333333, 0.3333333333333333, 0.3333333333333333, 0.3333333333333333, 0.3333333333333333, 0.3333333333333333, 0.3333333333333333, 0.3333333333333333, 0.3333333333333333, 0.3333333333333333]\n",
            "Nucleotide T: [0.23809523809523808, 0.23809523809523808, 0.23809523809523808, 0.23809523809523808, 0.23809523809523808, 0.23809523809523808, 0.23809523809523808, 0.23809523809523808, 0.23809523809523808, 0.23809523809523808, 0.23809523809523808, 0.23809523809523808, 0.23809523809523808, 0.23809523809523808, 0.23809523809523808, 0.23809523809523808, 0.23809523809523808, 0.23809523809523808, 0.23809523809523808, 0.23809523809523808, 0.23809523809523808]\n",
            "Nucleotide C: [0.19047619047619047, 0.19047619047619047, 0.19047619047619047, 0.19047619047619047, 0.19047619047619047, 0.19047619047619047, 0.19047619047619047, 0.19047619047619047, 0.19047619047619047, 0.19047619047619047, 0.19047619047619047, 0.19047619047619047, 0.19047619047619047, 0.19047619047619047, 0.19047619047619047, 0.19047619047619047, 0.19047619047619047, 0.19047619047619047, 0.19047619047619047, 0.19047619047619047, 0.19047619047619047]\n",
            "Nucleotide G: [0.23809523809523808, 0.23809523809523808, 0.23809523809523808, 0.23809523809523808, 0.23809523809523808, 0.23809523809523808, 0.23809523809523808, 0.23809523809523808, 0.23809523809523808, 0.23809523809523808, 0.23809523809523808, 0.23809523809523808, 0.23809523809523808, 0.23809523809523808, 0.23809523809523808, 0.23809523809523808, 0.23809523809523808, 0.23809523809523808, 0.23809523809523808, 0.23809523809523808, 0.23809523809523808]\n"
          ]
        }
      ]
    },
    {
      "cell_type": "markdown",
      "source": [
        "**4) Write a code for counting DNA nucleotides in a sequence**"
      ],
      "metadata": {
        "id": "DYcUa9C4zPhO"
      }
    },
    {
      "cell_type": "code",
      "source": [
        "dna_sequence = \"ACCCCGTACGTACGT\"\n",
        "nucleotides = {\"A\": 0, \"C\": 0, \"G\": 0, \"T\": 0}\n",
        "nucleotides = {}\n",
        "for nucleotide in dna_sequence:\n",
        "  if nucleotide not in nucleotides:\n",
        "    nucleotides[nucleotide] = 0\n",
        "\n",
        "  nucleotides[nucleotide] += 1\n",
        "\n",
        "print(nucleotides)\n"
      ],
      "metadata": {
        "colab": {
          "base_uri": "https://localhost:8080/"
        },
        "id": "wClNVNBhyEmk",
        "outputId": "64f181c6-832d-4942-c02a-cb516f846e0d"
      },
      "execution_count": null,
      "outputs": [
        {
          "output_type": "stream",
          "name": "stdout",
          "text": [
            "{'A': 3, 'C': 6, 'G': 3, 'T': 3}\n"
          ]
        }
      ]
    },
    {
      "cell_type": "markdown",
      "source": [
        "**5) Write a code for code for transcribing DNA into RNA**"
      ],
      "metadata": {
        "id": "BLf_6Tmmz7De"
      }
    },
    {
      "cell_type": "code",
      "source": [
        "dna_sequence = \"ACGTACGTATTTTTTTCGT\"\n",
        "\n",
        "rna_sequence = \"\"\n",
        "for nucleotide in dna_sequence:\n",
        "  if nucleotide == \"A\":\n",
        "    rna_sequence += \"U\"\n",
        "  elif nucleotide == \"C\":\n",
        "    rna_sequence += \"G\"\n",
        "  elif nucleotide == \"G\":\n",
        "    rna_sequence += \"C\"\n",
        "  elif nucleotide == \"T\":\n",
        "    rna_sequence += \"U\"\n",
        "\n",
        "print(rna_sequence)"
      ],
      "metadata": {
        "colab": {
          "base_uri": "https://localhost:8080/"
        },
        "id": "8Gmr0fV50G93",
        "outputId": "5e8e21a0-9ada-49f6-ba2f-d8a6d540eb58"
      },
      "execution_count": null,
      "outputs": [
        {
          "output_type": "stream",
          "name": "stdout",
          "text": [
            "UGCUUGCUUGCU\n"
          ]
        }
      ]
    },
    {
      "cell_type": "markdown",
      "source": [
        "**6) Calculate the length of each DNA sequence.**\\\n",
        "**sequence1 = \"ATCGATCGATCGTACG\"**\\\n",
        "**sequence2 = \"TTAGGCTAATCGGCTA\"**\n"
      ],
      "metadata": {
        "id": "6t70O3jO2Egv"
      }
    },
    {
      "cell_type": "code",
      "source": [
        "sequence1 = \"ATCGATCGATATATCAGCTCATGCGTCGTACG\"\n",
        "sequence2 = \"TTAGGCTAATCGGCTA\"\n",
        "\n",
        "length_sequence1 = len(sequence1)\n",
        "length_sequence2 = len(sequence2)\n",
        "\n",
        "print(\"Length of sequence1:\", length_sequence1)\n",
        "print(\"Length of sequence2:\", length_sequence2)\n"
      ],
      "metadata": {
        "colab": {
          "base_uri": "https://localhost:8080/"
        },
        "id": "tDjxFK7V5qiQ",
        "outputId": "5bae888e-977e-4e3b-98ca-d23f0b762c92"
      },
      "execution_count": null,
      "outputs": [
        {
          "output_type": "stream",
          "name": "stdout",
          "text": [
            "Length of sequence1: 32\n",
            "Length of sequence2: 16\n"
          ]
        }
      ]
    },
    {
      "cell_type": "markdown",
      "source": [
        "**7) Determine if the DNA sequences contain any stop codons (TAA, TAG, or TGA). If yes, report their positions.**\n",
        "\n",
        "**sequence1 = \"ATCGATCGATCGTACG\"**\\\n",
        "**sequence2 = \"TTAGGCTAATCGGCTA\"**\n"
      ],
      "metadata": {
        "id": "RJOT-MsO2NP7"
      }
    },
    {
      "cell_type": "markdown",
      "source": [
        "**8) Calculate GC Content**\n",
        "\n",
        "You are given a DNA sequence as a string, and your task is to write a Python program to calculate and display the GC content (percentage of G and C nucleotides) in the sequence.\n",
        "sequence = \"ATCGATCGATCGTACG\"\n",
        "\n"
      ],
      "metadata": {
        "id": "_fMDYg7p3rK6"
      }
    },
    {
      "cell_type": "code",
      "source": [
        "sequence = \"ATCGATCGATCGTACG\"\n",
        "\n",
        "# Count the number of G and C nucleotides\n",
        "gc_count = sequence.count('G') + sequence.count('C')\n",
        "\n",
        "# Calculate the total length of the sequence\n",
        "total_length = len(sequence)\n",
        "\n",
        "# Calculate the GC content as a percentage\n",
        "gc_content_percentage = (gc_count / total_length) * 100\n",
        "\n",
        "print(\"GC content:\", gc_content_percentage, \"%\")\n"
      ],
      "metadata": {
        "colab": {
          "base_uri": "https://localhost:8080/"
        },
        "id": "8zTdxrg24g88",
        "outputId": "8b907851-3a10-420b-a3e5-0a7a22e7c5d5"
      },
      "execution_count": null,
      "outputs": [
        {
          "output_type": "stream",
          "name": "stdout",
          "text": [
            "GC content: 50.0 %\n"
          ]
        }
      ]
    },
    {
      "cell_type": "markdown",
      "source": [
        "**9) Compare DNA Sequences**\n",
        "\n",
        "You are given two DNA sequences as strings, and your task is to write a Python program to compare these sequences and determine if they are identical or if they differ. If they differ, find and display the positions at which they differ.\n",
        "\n",
        "sequence1 = \"ATCGATCGATCGTACG\"\n",
        "sequence2 = \"TTAGGCTAATCGGCTA\"\n"
      ],
      "metadata": {
        "id": "xQ2Eu3_p4jni"
      }
    },
    {
      "cell_type": "code",
      "source": [
        "sequence1 = \"ATCGATCGATCGTACG\"\n",
        "sequence2 = \"TTAGGCTAATCGGCTA\"\n",
        "\n",
        "# Initialize a variable to track the positions where the sequences differ\n",
        "differ_positions = []\n",
        "\n",
        "# Iterate through the sequences and compare character by character\n",
        "for i in range(min(len(sequence1), len(sequence2))):\n",
        "    if sequence1[i] != sequence2[i]:\n",
        "        differ_positions.append(i)\n",
        "\n",
        "# Check if the sequences are identical or differ\n",
        "if not differ_positions:\n",
        "    print(\"The sequences are identical.\")\n",
        "else:\n",
        "    print(\"The sequences differ at positions:\", differ_positions)\n"
      ],
      "metadata": {
        "colab": {
          "base_uri": "https://localhost:8080/"
        },
        "id": "hrZdoJQI4oPC",
        "outputId": "1fbfa9e8-4632-42ba-fae5-a370fe08c6d7"
      },
      "execution_count": null,
      "outputs": [
        {
          "output_type": "stream",
          "name": "stdout",
          "text": [
            "The sequences differ at positions: [0, 2, 4, 5, 6, 7, 12, 13, 14, 15]\n"
          ]
        }
      ]
    },
    {
      "cell_type": "code",
      "source": [
        "sequence1 = \"ATCGATCGATCGTACGUGGUAATAATGA\"\n",
        "sequence2 = \"TTAGGCTAATCGGCTA\"\n",
        "\n",
        "stop_codons = [\"TAA\", \"TAG\", \"TGA\"]\n",
        "\n",
        "def find_stop_codons(sequence):\n",
        "    stop_codon_positions = []\n",
        "    for i in range(0, len(sequence) - 2, 3):\n",
        "        codon = sequence[i:i + 3]\n",
        "        if codon in stop_codons:\n",
        "            stop_codon_positions.append(i)\n",
        "    return stop_codon_positions\n",
        "\n",
        "stop_codon_positions_sequence1 = find_stop_codons(sequence1)\n",
        "stop_codon_positions_sequence2 = find_stop_codons(sequence2)\n",
        "\n",
        "if stop_codon_positions_sequence1:\n",
        "    print(\"Stop codons found in sequence1 at positions:\", stop_codon_positions_sequence1)\n",
        "else:\n",
        "    print(\"No stop codons found in sequence1\")\n",
        "\n",
        "if stop_codon_positions_sequence2:\n",
        "    print(\"Stop codons found in sequence2 at positions:\", stop_codon_positions_sequence2)\n",
        "else:\n",
        "    print(\"No stop codons found in sequence2\")\n"
      ],
      "metadata": {
        "colab": {
          "base_uri": "https://localhost:8080/"
        },
        "id": "nmy7rxPu5rZZ",
        "outputId": "36fbbe94-ff3c-492d-b978-1558c0b9b07e"
      },
      "execution_count": null,
      "outputs": [
        {
          "output_type": "stream",
          "name": "stdout",
          "text": [
            "No stop codons found in sequence1\n",
            "Stop codons found in sequence2 at positions: [6]\n"
          ]
        }
      ]
    },
    {
      "cell_type": "markdown",
      "source": [
        "what are the SNPs at each position?\n"
      ],
      "metadata": {
        "id": "rGYZjFUaXKS8"
      }
    },
    {
      "cell_type": "markdown",
      "source": [
        "**10) DNA Motif**\n",
        "\n",
        "You are given a DNA sequence and a DNA motif, both as strings. Your task is to write a Python program to find and display all the positions at which the DNA motif occurs in the DNA sequence.\n",
        "\n",
        "sequence = \"ATCGATCGATCGTACG\"\n",
        "motif = \"ATCG\"\n"
      ],
      "metadata": {
        "id": "TBOQ3EL35Qd8"
      }
    },
    {
      "cell_type": "code",
      "source": [
        "sequence = \"ATCGATCGATCGTACG\"\n",
        "motif = \"ATCG\"\n",
        "\n",
        "# Initialize a list to store the positions where the motif occurs\n",
        "motif_positions = []\n",
        "\n",
        "# Iterate through the sequence and search for the motif\n",
        "for i in range(len(sequence) - len(motif) + 1):\n",
        "    if sequence[i:i+len(motif)] == motif:\n",
        "        motif_positions.append(i)\n",
        "\n",
        "# Display the positions where the motif occurs\n",
        "if motif_positions:\n",
        "    print(\"Motif '{}' occurs at positions:\".format(motif))\n",
        "    for position in motif_positions:\n",
        "        print(position)\n",
        "else:\n",
        "    print(\"Motif '{}' does not occur in the sequence.\".format(motif))\n"
      ],
      "metadata": {
        "id": "pLEfoaCq5ZNS",
        "colab": {
          "base_uri": "https://localhost:8080/"
        },
        "outputId": "fd94d546-2244-4b9f-b266-8283ce9e8cf1"
      },
      "execution_count": null,
      "outputs": [
        {
          "output_type": "stream",
          "name": "stdout",
          "text": [
            "Motif 'ATCG' occurs at positions:\n",
            "0\n",
            "4\n",
            "8\n"
          ]
        }
      ]
    },
    {
      "cell_type": "markdown",
      "source": [
        "**11) Check for Stop Codons**\n",
        "\n",
        "You are given a DNA sequence as a string. Your task is to write a Python program to check if the DNA sequence contains any stop codons. Stop codons are specific DNA sequences that signal the end of protein synthesis. In DNA, the three common stop codons are \"TAA,\" \"TAG,\" and \"TGA.\"\n",
        "\n",
        "sequence = \"ATCGATCGTAAACGTTAGGCTA\"\n"
      ],
      "metadata": {
        "id": "V1RH30UL5bHe"
      }
    },
    {
      "cell_type": "code",
      "source": [
        "sequence = \"ATCGATCGTAAACGTTAGGCTA\"\n",
        "\n",
        "# Define a list of stop codons\n",
        "stop_codons = [\"TAA\", \"TAG\", \"TGA\"]\n",
        "\n",
        "# Initialize a variable to track whether stop codons are found\n",
        "stop_codons_found = False\n",
        "\n",
        "# Iterate through the sequence and check for stop codons\n",
        "for stop_codon in stop_codons:\n",
        "    if stop_codon in sequence:\n",
        "        stop_codons_found = True\n",
        "        break\n",
        "\n",
        "# Check and display the result\n",
        "if stop_codons_found:\n",
        "    print(\"Stop codons found in the sequence.\")\n",
        "else:\n",
        "    print(\"No stop codons found in the sequence.\")\n"
      ],
      "metadata": {
        "id": "Hw71XovQ5i_W",
        "colab": {
          "base_uri": "https://localhost:8080/"
        },
        "outputId": "2b7649ad-5107-4734-8151-e02e75dfd9d5"
      },
      "execution_count": null,
      "outputs": [
        {
          "output_type": "stream",
          "name": "stdout",
          "text": [
            "Stop codons found in the sequence.\n"
          ]
        }
      ]
    },
    {
      "cell_type": "markdown",
      "source": [
        "**12) DNA Sequence Comparison**\n",
        "\n",
        "You are given two DNA sequences as strings of equal length. Your task is to write a Python program to compare these sequences and count the number of positions where they differ.\n",
        "\n",
        "sequence1 = \"ATCGATCG\"\n",
        "sequence2 = \"ATAGCTCG\"\n",
        "\n",
        "output expected\n",
        "Number of Different Positions: 2"
      ],
      "metadata": {
        "id": "vgvWbFFg5joK"
      }
    },
    {
      "cell_type": "code",
      "source": [
        "sequence1 = \"ATCGATCG\"\n",
        "sequence2 = \"ATAGCTCG\"\n",
        "\n",
        "# Initialize a variable to count the differences\n",
        "differences = 0\n",
        "\n",
        "# Ensure that both sequences have the same length\n",
        "if len(sequence1) != len(sequence2):\n",
        "    print(\"Error: Sequences have different lengths.\")\n",
        "else:\n",
        "    # Iterate through the sequences and compare character by character\n",
        "    for i in range(len(sequence1)):\n",
        "        if sequence1[i] != sequence2[i]:\n",
        "            differences += 1\n",
        "\n",
        "    print(\"Number of Different Positions:\", differences)\n"
      ],
      "metadata": {
        "id": "uQd5r1kQ56qw",
        "colab": {
          "base_uri": "https://localhost:8080/"
        },
        "outputId": "ece62cb5-2cba-41d1-95be-a65e5d4044d3"
      },
      "execution_count": null,
      "outputs": [
        {
          "output_type": "stream",
          "name": "stdout",
          "text": [
            "Number of Different Positions: 2\n"
          ]
        }
      ]
    },
    {
      "cell_type": "markdown",
      "source": [
        "**13) Calculate Protein Molecular Weight**\n",
        "\n",
        "Proteins are composed of amino acids, and each amino acid has a specific molecular weight. Given a protein sequence as a string of amino acids (e.g., your task is to write a Python program to calculate and display the molecular weight of the protein.\n",
        "\n",
        "protein_sequence = \"ACDEFGACDE\"\n",
        "\n",
        "\n",
        "You can use the following information for amino acid molecular weights (rounded to the nearest whole number):\n",
        "\n",
        "    A (Alanine): 71 g/mol\n",
        "    C (Cysteine): 103 g/mol\n",
        "    D (Aspartic Acid): 115 g/mol\n",
        "    E (Glutamic Acid): 129 g/mol\n",
        "    F (Phenylalanine): 147 g/mol\n",
        "    G (Glycine): 57 g/mol\n",
        "    H (Histidine): 137 g/mol\n",
        "    I (Isoleucine): 113 g/mol\n",
        "    K (Lysine): 128 g/mol\n",
        "    L (Leucine): 113 g/mol\n",
        "    M (Methionine): 131 g/mol\n",
        "    N (Asparagine): 114 g/mol\n",
        "    P (Proline): 97 g/mol\n",
        "    Q (Glutamine): 128 g/mol\n",
        "    R (Arginine): 156 g/mol\n",
        "    S (Serine): 87 g/mol\n",
        "    T (Threonine): 101 g/mol\n",
        "    V (Valine): 99 g/mol\n",
        "    W (Tryptophan): 186 g/mol\n",
        "    Y (Tyrosine): 163 g/mol\n"
      ],
      "metadata": {
        "id": "Xzb7_8bR58Ao"
      }
    },
    {
      "cell_type": "code",
      "source": [
        "protein_sequence = \"ACDEFGACDE\"\n",
        "\n",
        "# Define a dictionary to store amino acid molecular weights\n",
        "amino_acid_weights = {\n",
        "    'A': 71, 'C': 103, 'D': 115, 'E': 129, 'F': 147, 'G': 57, 'H': 137, 'I': 113,\n",
        "    'K': 128, 'L': 113, 'M': 131, 'N': 114, 'P': 97, 'Q': 128, 'R': 156, 'S': 87,\n",
        "    'T': 101, 'V': 99, 'W': 186, 'Y': 163\n",
        "}\n",
        "\n",
        "# Initialize a variable to store the total molecular weight\n",
        "total_weight = 0\n",
        "\n",
        "# Iterate through the protein sequence and calculate the molecular weight\n",
        "for amino_acid in protein_sequence:\n",
        "    if amino_acid in amino_acid_weights:\n",
        "        total_weight += amino_acid_weights[amino_acid]\n",
        "    else:\n",
        "        print(\"Error: Amino acid {} is not recognized.\".format(amino_acid))\n",
        "        break\n",
        "\n",
        "# Display the total molecular weight of the protein\n",
        "print(\"Molecular Weight of the Protein:\", total_weight, \"g/mol\")\n"
      ],
      "metadata": {
        "id": "SxjtIKZB6IqR",
        "colab": {
          "base_uri": "https://localhost:8080/"
        },
        "outputId": "4cfee9bc-8161-4e85-84f4-a1969729be0e"
      },
      "execution_count": null,
      "outputs": [
        {
          "output_type": "stream",
          "name": "stdout",
          "text": [
            "Molecular Weight of the Protein: 1040 g/mol\n"
          ]
        }
      ]
    },
    {
      "cell_type": "markdown",
      "source": [
        "**14) Find Amino Acid Frequency**\n",
        "\n",
        "You are given a protein sequence as a string, and your task is to write a Python program to count and display the frequency of each amino acid in the sequence.\n",
        "protein_sequence = \"ACDEFGACDE\"\n",
        "\n",
        "output expected\n",
        "Amino Acid Frequencies:\n",
        "   A: 2\n",
        "   C: 2\n",
        "   D: 2\n",
        "   E: 2\n",
        "   F: 1\n",
        "   G: 1\n"
      ],
      "metadata": {
        "id": "qM-U3x9R6OfM"
      }
    },
    {
      "cell_type": "code",
      "source": [
        "protein_sequence = \"ACDEFGACDE\"\n",
        "\n",
        "# Initialize a dictionary to store amino acid frequencies\n",
        "amino_acid_frequencies = {}\n",
        "\n",
        "# Iterate through the protein sequence and count amino acid frequencies\n",
        "for amino_acid in protein_sequence:\n",
        "    if amino_acid in amino_acid_frequencies:\n",
        "        amino_acid_frequencies[amino_acid] += 1\n",
        "    else:\n",
        "        amino_acid_frequencies[amino_acid] = 1\n",
        "\n",
        "# Display the amino acid frequencies\n",
        "print(\"Amino Acid Frequencies:\")\n",
        "for amino_acid, frequency in amino_acid_frequencies.items():\n",
        "    print(f\"   {amino_acid}: {frequency}\")\n"
      ],
      "metadata": {
        "id": "zTZvGAvg6f57",
        "colab": {
          "base_uri": "https://localhost:8080/"
        },
        "outputId": "fdb0aa39-15ea-4b8d-a306-ecd5894e6435"
      },
      "execution_count": null,
      "outputs": [
        {
          "output_type": "stream",
          "name": "stdout",
          "text": [
            "Amino Acid Frequencies:\n",
            "   A: 2\n",
            "   C: 2\n",
            "   D: 2\n",
            "   E: 2\n",
            "   F: 1\n",
            "   G: 1\n"
          ]
        }
      ]
    },
    {
      "cell_type": "markdown",
      "source": [
        "**15) Find the Protein Motif**\n",
        "\n",
        "You are given a protein sequence as a string, and your task is to write a Python program to find and display all occurrences of a specific protein motif (a short sequence of amino acids) within the protein sequence.\n",
        "\n",
        "protein_sequence = \"ACDEFGACDEHGGACDE\"\n",
        "motif = \"ACDE\"\n",
        "\n",
        "output expected\n",
        "Motif \"ACDE\" Occurrences: [0, 7, 11]"
      ],
      "metadata": {
        "id": "lvgvz6pA6gGo"
      }
    },
    {
      "cell_type": "code",
      "source": [
        "protein_sequence = \"ACDEFGACDEHGGACDE\"\n",
        "motif = \"ACDE\"\n",
        "\n",
        "# Initialize a list to store the positions where the motif occurs\n",
        "motif_positions = []\n",
        "\n",
        "# Initialize the starting position for the search\n",
        "start = 0\n",
        "\n",
        "# Iterate through the protein sequence and search for the motif\n",
        "while start < len(protein_sequence):\n",
        "    position = protein_sequence.find(motif, start)\n",
        "    if position != -1:\n",
        "        motif_positions.append(position)\n",
        "        start = position + 1\n",
        "    else:\n",
        "        break\n",
        "\n",
        "# Display the motif occurrences\n",
        "print(f\"Motif \\\"{motif}\\\" Occurrences:\", motif_positions)\n"
      ],
      "metadata": {
        "id": "6iQTP6Sb6xwb",
        "colab": {
          "base_uri": "https://localhost:8080/"
        },
        "outputId": "9eabb496-730c-4c9d-e3e3-52ddaf93b8c4"
      },
      "execution_count": null,
      "outputs": [
        {
          "output_type": "stream",
          "name": "stdout",
          "text": [
            "Motif \"ACDE\" Occurrences: [0, 6, 13]\n"
          ]
        }
      ]
    },
    {
      "cell_type": "markdown",
      "source": [
        "**16) Translate RNA to Protein**\n",
        "\n",
        "**Info** :Proteins are synthesized from RNA molecules through a process called translation. During translation, groups of three RNA nucleotides, called codons, code for specific amino acids. Your task is to write a Python program that simulates the translation process.\n",
        "\n",
        "Given an RNA sequence as a string, your program should translate it into a protein sequence by mapping each codon to the corresponding amino acid. You can use the standard genetic code to perform this translation.\n",
        "\n",
        "Here's a simplified version of the genetic code:\n",
        "\n",
        "    AUG: Methionine (M)\n",
        "    UUU or UUC: Phenylalanine (F)\n",
        "    UUA or UUG: Leucine (L)\n",
        "    UCU, UCC, UCA, or UCG: Serine (S)\n",
        "    UAU or UAC: Tyrosine (Y)\n",
        "    UGU or UGC: Cysteine (C)\n",
        "    UGG: Tryptophan (W)\n",
        "\n",
        "The translation should start with the first AUG codon and continue until a stop codon is encountered. The stop codons are UAA, UAG, and UGA, and they do not code for any amino acid but signal the end of translation.\n",
        "\n",
        "rna_sequence = \"AUGUUUCUUUAG\"\n"
      ],
      "metadata": {
        "id": "oNqxHRiS665i"
      }
    },
    {
      "cell_type": "code",
      "source": [
        "rna_sequence = \"AUGUUUCUUUAG\"\n",
        "\n",
        "# Define a dictionary to map codons to amino acids\n",
        "genetic_code = {\n",
        "    \"AUG\": \"Methionine (M)\",\n",
        "    \"UUU\": \"Phenylalanine (F)\",\n",
        "    \"UUC\": \"Phenylalanine (F)\",\n",
        "    \"UUA\": \"Leucine (L)\",\n",
        "    \"UUG\": \"Leucine (L)\",\n",
        "    \"UCU\": \"Serine (S)\",\n",
        "    \"UCC\": \"Serine (S)\",\n",
        "    \"UCA\": \"Serine (S)\",\n",
        "    \"UCG\": \"Serine (S)\",\n",
        "    \"UAU\": \"Tyrosine (Y)\",\n",
        "    \"UAC\": \"Tyrosine (Y)\",\n",
        "    \"UGU\": \"Cysteine (C)\",\n",
        "    \"UGC\": \"Cysteine (C)\",\n",
        "    \"UGG\": \"Tryptophan (W)\",\n",
        "    \"UAA\": \"Stop\",\n",
        "    \"UAG\": \"Stop\",\n",
        "    \"UGA\": \"Stop\",\n",
        "}\n",
        "\n",
        "# Initialize a variable to store the protein sequence\n",
        "protein_sequence = []\n",
        "\n",
        "# Start translation at the first AUG codon\n",
        "start_translation = False\n",
        "\n",
        "# Iterate through the RNA sequence and translate it into a protein sequence\n",
        "for i in range(0, len(rna_sequence), 3):\n",
        "    codon = rna_sequence[i:i+3]\n",
        "\n",
        "    # Start translation at the first AUG codon\n",
        "    if codon == \"AUG\":\n",
        "        start_translation = True\n",
        "\n",
        "    if start_translation:\n",
        "        amino_acid = genetic_code.get(codon, None)\n",
        "        if amino_acid is None:\n",
        "            break  # Stop translation at an unrecognized codon\n",
        "        if amino_acid == \"Stop\":\n",
        "            break  # Stop translation at a stop codon\n",
        "        protein_sequence.append(amino_acid)\n",
        "\n",
        "# Display the protein sequence\n",
        "print(\"Translated Protein Sequence:\")\n",
        "print(\" \".join(protein_sequence))\n"
      ],
      "metadata": {
        "id": "RjiEbxSK7VTh"
      },
      "execution_count": null,
      "outputs": []
    },
    {
      "cell_type": "markdown",
      "source": [
        " **17)  Calculates Hamming distance between two DNA sequences.**\\\n",
        "**Seq-1:ATCGTACG \\\n",
        "Seq-2:ATAGTACC**\n",
        "\n",
        "**The Hamming distance is the number of positions at which the corresponding nucleotides differ.**"
      ],
      "metadata": {
        "id": "C5-CD4LjCzjo"
      }
    },
    {
      "cell_type": "code",
      "source": [
        "def hamming_distance(seq1, seq2):\n",
        "    \"\"\"\n",
        "    Calculate the Hamming distance between two DNA sequences.\n",
        "\n",
        "    Parameters:\n",
        "    seq1 (str): The first DNA sequence.\n",
        "    seq2 (str): The second DNA sequence.\n",
        "\n",
        "    Returns:\n",
        "    int: The Hamming distance.\n",
        "    \"\"\"\n",
        "    if len(seq1) != len(seq2):\n",
        "        raise ValueError(\"Sequences must be of the same length\")\n",
        "\n",
        "    distance = sum(c1 != c2 for c1, c2 in zip(seq1, seq2))\n",
        "    return distance\n",
        "\n",
        "# Example usage:\n",
        "sequence1 = \"ATCGTACG\"\n",
        "sequence2 = \"ATAGTACC\"\n",
        "\n",
        "try:\n",
        "    distance = hamming_distance(sequence1, sequence2)\n",
        "    print(f\"Hamming Distance: {distance}\")\n",
        "except ValueError as e:\n",
        "    print(f\"Error: {e}\")\n"
      ],
      "metadata": {
        "colab": {
          "base_uri": "https://localhost:8080/"
        },
        "id": "245QHTJyCz3E",
        "outputId": "5b32d0a5-583c-4e6d-df92-cf1987bc6905"
      },
      "execution_count": null,
      "outputs": [
        {
          "output_type": "stream",
          "name": "stdout",
          "text": [
            "Hamming Distance: 2\n"
          ]
        }
      ]
    },
    {
      "cell_type": "markdown",
      "source": [
        "**18) Find the optimal global alignment between two DNA sequences and computes the alignment score using Needleman Wunsch Algorithm**.\n",
        "\n",
        " Example usage:\n",
        "**seq1 = \"AGTCGTA\"**\\\n",
        "**seq2 = \"AGGCTA\"**\n",
        "\n",
        "**Function:\\\n",
        "It takes two sequences as input, along with optional match, mismatch, and gap penalty scores. It returns the aligned sequences and the alignment score.**"
      ],
      "metadata": {
        "id": "zGv4aD-MEe-V"
      }
    },
    {
      "cell_type": "code",
      "source": [
        "def needleman_wunsch_alignment(seq1, seq2, match_score=1, mismatch_score=-1, gap_penalty=-1):\n",
        "    \"\"\"\n",
        "    Perform global sequence alignment using the Needleman-Wunsch algorithm.\n",
        "\n",
        "    Parameters:\n",
        "    seq1 (str): The first DNA sequence.\n",
        "    seq2 (str): The second DNA sequence.\n",
        "    match_score (int): Score for a match.\n",
        "    mismatch_score (int): Score for a mismatch.\n",
        "    gap_penalty (int): Penalty for introducing a gap.\n",
        "\n",
        "    Returns:\n",
        "    tuple: A tuple containing the aligned sequences and the alignment score.\n",
        "    \"\"\"\n",
        "    # Initialize the scoring matrix\n",
        "    rows = len(seq1) + 1\n",
        "    cols = len(seq2) + 1\n",
        "    score_matrix = [[0] * cols for _ in range(rows)]\n",
        "\n",
        "    # Initialize the traceback matrix to keep track of alignment path\n",
        "    traceback = [[0] * cols for _ in range(rows)]\n",
        "\n",
        "    # Fill the first row and first column with gap penalties\n",
        "    for i in range(1, rows):\n",
        "        score_matrix[i][0] = i * gap_penalty\n",
        "        traceback[i][0] = 'U'  # Up\n",
        "\n",
        "    for j in range(1, cols):\n",
        "        score_matrix[0][j] = j * gap_penalty\n",
        "        traceback[0][j] = 'L'  # Left\n",
        "\n",
        "    # Fill the scoring matrix and traceback matrix\n",
        "    for i in range(1, rows):\n",
        "        for j in range(1, cols):\n",
        "            match = score_matrix[i - 1][j - 1] + (match_score if seq1[i - 1] == seq2[j - 1] else mismatch_score)\n",
        "            delete = score_matrix[i - 1][j] + gap_penalty\n",
        "            insert = score_matrix[i][j - 1] + gap_penalty\n",
        "            score_matrix[i][j] = max(match, delete, insert)\n",
        "\n",
        "            if score_matrix[i][j] == match:\n",
        "                traceback[i][j] = 'D'  # Diagonal\n",
        "            elif score_matrix[i][j] == delete:\n",
        "                traceback[i][j] = 'U'  # Up\n",
        "            else:\n",
        "                traceback[i][j] = 'L'  # Left\n",
        "\n",
        "    # Traceback to find the aligned sequences\n",
        "    aligned_seq1 = []\n",
        "    aligned_seq2 = []\n",
        "    i, j = rows - 1, cols - 1\n",
        "\n",
        "    while i > 0 or j > 0:\n",
        "        if traceback[i][j] == 'D':\n",
        "            aligned_seq1.insert(0, seq1[i - 1])\n",
        "            aligned_seq2.insert(0, seq2[j - 1])\n",
        "            i -= 1\n",
        "            j -= 1\n",
        "        elif traceback[i][j] == 'U':\n",
        "            aligned_seq1.insert(0, seq1[i - 1])\n",
        "            aligned_seq2.insert(0, '-')\n",
        "            i -= 1\n",
        "        else:\n",
        "            aligned_seq1.insert(0, '-')\n",
        "            aligned_seq2.insert(0, seq2[j - 1])\n",
        "            j -= 1\n",
        "\n",
        "    aligned_seq1 = ''.join(aligned_seq1)\n",
        "    aligned_seq2 = ''.join(aligned_seq2)\n",
        "\n",
        "    return aligned_seq1, aligned_seq2, score_matrix[rows - 1][cols - 1]\n",
        "\n",
        "\n",
        "\n",
        "aligned_seq1, aligned_seq2, alignment_score = needleman_wunsch_alignment(seq1, seq2)\n",
        "\n",
        "print(f\"Sequence 1: {seq1}\")\n",
        "print(f\"Sequence 2: {seq2}\")\n",
        "print(f\"Alignment Score: {alignment_score}\")\n",
        "print(f\"Aligned Sequence 1: {aligned_seq1}\")\n",
        "print(f\"Aligned Sequence 2: {aligned_seq2}\")\n"
      ],
      "metadata": {
        "id": "cDbs4GyhD9hZ",
        "outputId": "c43070b2-8a97-4606-8d29-cb6f8b3f8d63",
        "colab": {
          "base_uri": "https://localhost:8080/",
          "height": 273
        }
      },
      "execution_count": null,
      "outputs": [
        {
          "output_type": "error",
          "ename": "NameError",
          "evalue": "ignored",
          "traceback": [
            "\u001b[0;31m---------------------------------------------------------------------------\u001b[0m",
            "\u001b[0;31mNameError\u001b[0m                                 Traceback (most recent call last)",
            "\u001b[0;32m<ipython-input-22-80146f4dff5a>\u001b[0m in \u001b[0;36m<cell line: 74>\u001b[0;34m()\u001b[0m\n\u001b[1;32m     72\u001b[0m \u001b[0;34m\u001b[0m\u001b[0m\n\u001b[1;32m     73\u001b[0m \u001b[0;34m\u001b[0m\u001b[0m\n\u001b[0;32m---> 74\u001b[0;31m \u001b[0maligned_seq1\u001b[0m\u001b[0;34m,\u001b[0m \u001b[0maligned_seq2\u001b[0m\u001b[0;34m,\u001b[0m \u001b[0malignment_score\u001b[0m \u001b[0;34m=\u001b[0m \u001b[0mneedleman_wunsch_alignment\u001b[0m\u001b[0;34m(\u001b[0m\u001b[0mseq1\u001b[0m\u001b[0;34m,\u001b[0m \u001b[0mseq2\u001b[0m\u001b[0;34m)\u001b[0m\u001b[0;34m\u001b[0m\u001b[0;34m\u001b[0m\u001b[0m\n\u001b[0m\u001b[1;32m     75\u001b[0m \u001b[0;34m\u001b[0m\u001b[0m\n\u001b[1;32m     76\u001b[0m \u001b[0mprint\u001b[0m\u001b[0;34m(\u001b[0m\u001b[0;34mf\"Sequence 1: {seq1}\"\u001b[0m\u001b[0;34m)\u001b[0m\u001b[0;34m\u001b[0m\u001b[0;34m\u001b[0m\u001b[0m\n",
            "\u001b[0;31mNameError\u001b[0m: name 'seq1' is not defined"
          ]
        }
      ]
    },
    {
      "cell_type": "markdown",
      "source": [
        "**19) Performs a pairwise sequence alignment using the Smith-Waterman algorithm to find the local alignment between two protein sequences and calculates the alignment score**\n",
        "\n",
        "**Info** \\\n",
        "\n",
        "It Performs local sequence alignment using the Smith-Waterman algorithm. It takes two protein sequences as input, along with optional match, mismatch, and gap penalty scores, and returns the aligned sequences and the alignment score.\n",
        "\n",
        "Example usage:\n",
        "**seq1 = \"ACGTGAGA\"**\\\n",
        "**seq2 = \"GTGTGAGT\"**"
      ],
      "metadata": {
        "id": "Q4bCscabFIN2"
      }
    },
    {
      "cell_type": "code",
      "source": [
        "def smith_waterman_alignment(seq1, seq2, match_score=2, mismatch_score=-1, gap_penalty=-1):\n",
        "    \"\"\"\n",
        "    Perform local sequence alignment using the Smith-Waterman algorithm.\n",
        "\n",
        "    Parameters:\n",
        "    seq1 (str): The first protein sequence.\n",
        "    seq2 (str): The second protein sequence.\n",
        "    match_score (int): Score for a match.\n",
        "    mismatch_score (int): Score for a mismatch.\n",
        "    gap_penalty (int): Penalty for introducing a gap.\n",
        "\n",
        "    Returns:\n",
        "    tuple: A tuple containing the aligned sequences and the alignment score.\n",
        "    \"\"\"\n",
        "    # Initialize the scoring matrix\n",
        "    rows = len(seq1) + 1\n",
        "    cols = len(seq2) + 1\n",
        "    score_matrix = [[0] * cols for _ in range(rows)]\n",
        "\n",
        "    # Initialize variables for tracking the maximum score and its position\n",
        "    max_score = 0\n",
        "    max_i, max_j = 0, 0\n",
        "\n",
        "    # Fill the scoring matrix\n",
        "    for i in range(1, rows):\n",
        "        for j in range(1, cols):\n",
        "            if seq1[i - 1] == seq2[j - 1]:\n",
        "                match = score_matrix[i - 1][j - 1] + match_score\n",
        "            else:\n",
        "                match = score_matrix[i - 1][j - 1] + mismatch_score\n",
        "\n",
        "            delete = score_matrix[i - 1][j] + gap_penalty\n",
        "            insert = score_matrix[i][j - 1] + gap_penalty\n",
        "\n",
        "            # Calculate the maximum score at the current position\n",
        "            score_matrix[i][j] = max(0, match, delete, insert)\n",
        "\n",
        "            # Track the maximum score and its position\n",
        "            if score_matrix[i][j] > max_score:\n",
        "                max_score = score_matrix[i][j]\n",
        "                max_i, max_j = i, j\n",
        "\n",
        "    # Traceback to find the local alignment\n",
        "    aligned_seq1 = []\n",
        "    aligned_seq2 = []\n",
        "\n",
        "    while score_matrix[max_i][max_j] > 0:\n",
        "        if seq1[max_i - 1] == seq2[max_j - 1]:\n",
        "            aligned_seq1.insert(0, seq1[max_i - 1])\n",
        "            aligned_seq2.insert(0, seq2[max_j - 1])\n",
        "            max_i -= 1\n",
        "            max_j -= 1\n",
        "        else:\n",
        "            # Determine the direction of the traceback\n",
        "            if score_matrix[max_i][max_j] == score_matrix[max_i - 1][max_j - 1] + mismatch_score:\n",
        "                aligned_seq1.insert(0, seq1[max_i - 1])\n",
        "                aligned_seq2.insert(0, seq2[max_j - 1])\n",
        "                max_i -= 1\n",
        "                max_j -= 1\n",
        "            elif score_matrix[max_i][max_j] == score_matrix[max_i - 1][max_j] + gap_penalty:\n",
        "                aligned_seq1.insert(0, seq1[max_i - 1])\n",
        "                aligned_seq2.insert(0, \"-\")\n",
        "                max_i -= 1\n",
        "            else:\n",
        "                aligned_seq1.insert(0, \"-\")\n",
        "                aligned_seq2.insert(0, seq2[max_j - 1])\n",
        "                max_j -= 1\n",
        "\n",
        "    aligned_seq1 = ''.join(aligned_seq1)\n",
        "    aligned_seq2 = ''.join(aligned_seq2)\n",
        "\n",
        "    return aligned_seq1, aligned_seq2, max_score\n",
        "\n",
        "\n",
        "\n",
        "aligned_seq1, aligned_seq2, alignment_score = smith_waterman_alignment(seq1, seq2)\n",
        "\n",
        "print(f\"Sequence 1: {seq1}\")\n",
        "print(f\"Sequence 2: {seq2}\")\n",
        "print(f\"Alignment Score: {alignment_score}\")\n",
        "print(f\"Aligned Sequence 1: {aligned_seq1}\")\n",
        "print(f\"Aligned Sequence 2: {aligned_seq2}\")\n"
      ],
      "metadata": {
        "id": "v-0ogWArFIbF",
        "colab": {
          "base_uri": "https://localhost:8080/",
          "height": 273
        },
        "outputId": "ab5ff6c0-3729-4935-9f11-2de7f4f184cf"
      },
      "execution_count": null,
      "outputs": [
        {
          "output_type": "error",
          "ename": "NameError",
          "evalue": "ignored",
          "traceback": [
            "\u001b[0;31m---------------------------------------------------------------------------\u001b[0m",
            "\u001b[0;31mNameError\u001b[0m                                 Traceback (most recent call last)",
            "\u001b[0;32m<ipython-input-23-cf925ecd293b>\u001b[0m in \u001b[0;36m<cell line: 76>\u001b[0;34m()\u001b[0m\n\u001b[1;32m     74\u001b[0m \u001b[0;34m\u001b[0m\u001b[0m\n\u001b[1;32m     75\u001b[0m \u001b[0;34m\u001b[0m\u001b[0m\n\u001b[0;32m---> 76\u001b[0;31m \u001b[0maligned_seq1\u001b[0m\u001b[0;34m,\u001b[0m \u001b[0maligned_seq2\u001b[0m\u001b[0;34m,\u001b[0m \u001b[0malignment_score\u001b[0m \u001b[0;34m=\u001b[0m \u001b[0msmith_waterman_alignment\u001b[0m\u001b[0;34m(\u001b[0m\u001b[0mseq1\u001b[0m\u001b[0;34m,\u001b[0m \u001b[0mseq2\u001b[0m\u001b[0;34m)\u001b[0m\u001b[0;34m\u001b[0m\u001b[0;34m\u001b[0m\u001b[0m\n\u001b[0m\u001b[1;32m     77\u001b[0m \u001b[0;34m\u001b[0m\u001b[0m\n\u001b[1;32m     78\u001b[0m \u001b[0mprint\u001b[0m\u001b[0;34m(\u001b[0m\u001b[0;34mf\"Sequence 1: {seq1}\"\u001b[0m\u001b[0;34m)\u001b[0m\u001b[0;34m\u001b[0m\u001b[0;34m\u001b[0m\u001b[0m\n",
            "\u001b[0;31mNameError\u001b[0m: name 'seq1' is not defined"
          ]
        }
      ]
    },
    {
      "cell_type": "markdown",
      "source": [
        "**20) Generate synthetic RNA-Seq data, preprocess it, and perform basic analysis steps**\n",
        "\n",
        "**Info**\\\n",
        "RNA-seq is a method of measuring gene expression using shotgun sequencing. The process involves reverse transcribing RNA into cDNA, then sequencing fragments on a high-throughput platform such as Illumina to obtain a large number of short reads. For each sample, the reads are then aligned to a genome, and the number of reads aligned to each gene or feature is recorded."
      ],
      "metadata": {
        "id": "ylI0ckscKdae"
      }
    },
    {
      "cell_type": "code",
      "source": [
        "import numpy as np\n",
        "import pandas as pd\n",
        "import matplotlib.pyplot as plt\n",
        "\n",
        "# Generate synthetic RNA-Seq data\n",
        "np.random.seed(42)\n",
        "num_genes = 5000\n",
        "num_samples = 6\n",
        "\n",
        "# Create a matrix representing gene expression (rows: genes, columns: samples)\n",
        "gene_expression = np.random.randint(1, 1000, size=(num_genes, num_samples))\n",
        "\n",
        "# Create a list of sample names\n",
        "sample_names = [f\"Sample{i}\" for i in range(1, num_samples + 1)]\n",
        "\n",
        "# Create a list of gene names\n",
        "gene_names = [f\"Gene{i}\" for i in range(1, num_genes + 1)]\n",
        "\n",
        "# Create a DataFrame to store the gene expression data\n",
        "expression_df = pd.DataFrame(gene_expression, index=gene_names, columns=sample_names)\n",
        "\n",
        "# Print a subset of the expression data\n",
        "print(\"Subset of Gene Expression Data:\")\n",
        "print(expression_df.head())\n",
        "\n",
        "# Perform data preprocessing (e.g., normalization, log transformation)\n",
        "\n",
        "# Calculate gene expression statistics (e.g., mean, variance)\n",
        "\n",
        "# Perform differential expression analysis (e.g., using DESeq2 or edgeR)\n",
        "\n",
        "# Visualize results (e.g., heatmaps, volcano plots)\n",
        "\n",
        "# Further downstream analysis (e.g., pathway enrichment analysis)\n",
        "\n",
        "# Example: Plot a histogram of gene expression in one sample\n",
        "sample_to_plot = \"Sample1\"\n",
        "plt.figure(figsize=(8, 6))\n",
        "plt.hist(expression_df[sample_to_plot], bins=50, color='skyblue', edgecolor='black')\n",
        "plt.title(f\"Gene Expression Distribution in {sample_to_plot}\")\n",
        "plt.xlabel(\"Expression Level\")\n",
        "plt.ylabel(\"Frequency\")\n",
        "plt.show()\n"
      ],
      "metadata": {
        "id": "dA_khbFDKbHo",
        "colab": {
          "base_uri": "https://localhost:8080/",
          "height": 656
        },
        "outputId": "ffb44d87-1246-46e9-9a34-c45a5b7f9b49"
      },
      "execution_count": null,
      "outputs": [
        {
          "output_type": "stream",
          "name": "stdout",
          "text": [
            "Subset of Gene Expression Data:\n",
            "       Sample1  Sample2  Sample3  Sample4  Sample5  Sample6\n",
            "Gene1      103      436      861      271      107       72\n",
            "Gene2      701       21      615      122      467      215\n",
            "Gene3      331      459       88      373      100      872\n",
            "Gene4      664      131      662      309      770      344\n",
            "Gene5      492      414      806      386      192      956\n"
          ]
        },
        {
          "output_type": "display_data",
          "data": {
            "text/plain": [
              "<Figure size 800x600 with 1 Axes>"
            ],
            "image/png": "[encoded data removed]"
          },
          "metadata": {}
        }
      ]
    },
    {
      "cell_type": "code",
      "source": [
        "import re\n",
        "\n",
        "def find_primers(sequence, primer_length=20, min_gc_content=35, max_gc_content=40):\n",
        "    # Regular expression to find all possible primer sequences of the specified length\n",
        "    primer_pattern = f'(?=({\".\" * primer_length}))'\n",
        "    primer_matches = re.findall(primer_pattern, sequence)\n",
        "\n",
        "    primers = []\n",
        "    for match in primer_matches:\n",
        "        primer = match\n",
        "        gc_content = (primer.count(\"G\") + primer.count(\"C\")) / len(primer) * 100\n",
        "        if min_gc_content <= gc_content <= max_gc_content:\n",
        "            primers.append(primer)\n",
        "\n",
        "    return primers\n",
        "\n",
        "# Input DNA sequence\n",
        "sequence = \"AATTTTTGCHCHCTRCGACTGATATCTCTAAATTTTATATTTGTGCGCT\"\n",
        "\n",
        "# Find primers with default parameters\n",
        "primers = find_primers(sequence)\n",
        "\n",
        "# Print the found primers\n",
        "for i, primer in enumerate(primers, 1):\n",
        "    print(f'Primer {i}: {primer}')\n",
        "\n"
      ],
      "metadata": {
        "id": "t-yJ4OnH5Acn",
        "colab": {
          "base_uri": "https://localhost:8080/"
        },
        "outputId": "0166a43f-1cea-46a3-fda5-d33038f233ad"
      },
      "execution_count": null,
      "outputs": [
        {
          "output_type": "stream",
          "name": "stdout",
          "text": [
            "Primer 1: AATTTTTGCHCHCTRCGACT\n",
            "Primer 2: ATTTTTGCHCHCTRCGACTG\n",
            "Primer 3: TTTTTGCHCHCTRCGACTGA\n",
            "Primer 4: TTTTGCHCHCTRCGACTGAT\n",
            "Primer 5: TTTGCHCHCTRCGACTGATA\n",
            "Primer 6: TTGCHCHCTRCGACTGATAT\n",
            "Primer 7: HCHCTRCGACTGATATCTCT\n",
            "Primer 8: CHCTRCGACTGATATCTCTA\n",
            "Primer 9: HCTRCGACTGATATCTCTAA\n",
            "Primer 10: CTRCGACTGATATCTCTAAA\n"
          ]
        }
      ]
    },
    {
      "cell_type": "code",
      "source": [],
      "metadata": {
        "id": "PTVVrSO2ZLTy"
      },
      "execution_count": null,
      "outputs": []
    },
    {
      "cell_type": "markdown",
      "source": [],
      "metadata": {
        "id": "NKdBWFa45A52"
      }
    },
    {
      "cell_type": "markdown",
      "source": [],
      "metadata": {
        "id": "bXYdUycC5BYk"
      }
    }
  ]
}